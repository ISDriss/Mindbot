{
 "cells": [
  {
   "cell_type": "code",
   "execution_count": null,
   "metadata": {},
   "outputs": [],
   "source": [
    "import os\n",
    "import pandas as pd\n",
    "import numpy as np\n",
    "import torch\n",
    "from torch.utils.data import Dataset, DataLoader\n",
    "import torch.nn as nn\n",
    "import torch.nn.functional as F\n",
    "import seaborn as sns\n",
    "import matplotlib.pyplot as plt\n",
    "from sklearn.metrics import confusion_matrix, classification_report"
   ]
  },
  {
   "cell_type": "markdown",
   "metadata": {},
   "source": [
    "### Data Preprocessing"
   ]
  },
  {
   "cell_type": "code",
   "execution_count": 1,
   "metadata": {},
   "outputs": [],
   "source": [
    "# TO DO"
   ]
  },
  {
   "cell_type": "markdown",
   "metadata": {},
   "source": [
    "### EEG Data Loading"
   ]
  },
  {
   "cell_type": "code",
   "execution_count": null,
   "metadata": {},
   "outputs": [],
   "source": [
    "class EEGDataset(Dataset):\n",
    "    def __init__(self, data_dir):\n",
    "        self.data_dir = data_dir\n",
    "        self.files = os.listdir(data_dir)\n",
    "    \n",
    "    def __len__(self):\n",
    "        return len(self.files)\n",
    "    \n",
    "    def __getitem__(self, idx):\n",
    "        file_name = self.files[idx]\n",
    "        file_path = os.path.join(self.data_dir, file_name)\n",
    "\n",
    "        df = pd.read_csv(file_path)\n",
    "        eeg_data = torch.tensor(df.iloc[:, :-1].values, dtype=torch.float32)\n",
    "        eeg_data = eeg_data.unsqueeze(0)\n",
    "\n",
    "        # for this, file names should be in the format \"movement_direction_0.csv\"\n",
    "        movement, direction, _ = file_name.split(\"_\")\n",
    "        movement_label = [\"neutre\", \"avant\", \"arrière\"].index(movement)\n",
    "        direction_label = [\"neutre\", \"gauche\", \"droite\"].index(direction)\n",
    "\n",
    "        movement_tensor = torch.tensor(movement_label, dtype=torch.long)\n",
    "        direction_tensor = torch.tensor(direction_label, dtype=torch.long)\n",
    "\n",
    "        return eeg_data, (movement_tensor, direction_tensor)"
   ]
  },
  {
   "cell_type": "code",
   "execution_count": null,
   "metadata": {},
   "outputs": [],
   "source": [
    "data_dir = os.path.join(os.getcwd(), \"data\")  # data directory\n",
    "dataset = EEGDataset(data_dir)\n",
    "dataloader = DataLoader(dataset, batch_size=32, shuffle=True)"
   ]
  },
  {
   "cell_type": "markdown",
   "metadata": {},
   "source": [
    "### Define EEGNet model and Pytorch"
   ]
  },
  {
   "cell_type": "code",
   "execution_count": null,
   "metadata": {},
   "outputs": [],
   "source": [
    "class EEGNet(nn.Module):\n",
    "    def __init__(self, num_classes_movement=3, num_classes_direction=3):\n",
    "        super(EEGNet, self).__init__()\n",
    "        self.conv1 = nn.Conv2d(1, 16, (1, 64), padding=(0, 32))\n",
    "        self.batchnorm1 = nn.BatchNorm2d(16)\n",
    "        self.conv2 = nn.Conv2d(16, 32, (2, 1))\n",
    "        self.conv3 = nn.Conv2d(32, 32, (1, 16), groups=32, padding=(0, 8))\n",
    "        self.conv4 = nn.Conv2d(32, 32, (1, 1))\n",
    "        self.batchnorm2 = nn.BatchNorm2d(32)\n",
    "        self.fc1 = nn.Linear(32 * 2 * 50, 64)\n",
    "        self.dropout = nn.Dropout(0.5)\n",
    "        self.fc_movement = nn.Linear(64, num_classes_movement)\n",
    "        self.fc_direction = nn.Linear(64, num_classes_direction)\n",
    "\n",
    "    def forward(self, x):\n",
    "        x = F.elu(self.batchnorm1(self.conv1(x)))\n",
    "        x = F.elu(self.conv2(x))\n",
    "        x = F.elu(self.batchnorm2(self.conv3(x)))\n",
    "        x = F.elu(self.conv4(x))\n",
    "        x = x.view(x.size(0), -1)\n",
    "        x = F.elu(self.fc1(x))\n",
    "        x = self.dropout(x)\n",
    "        movement = self.fc_movement(x)\n",
    "        direction = self.fc_direction(x)\n",
    "        return movement, direction"
   ]
  },
  {
   "cell_type": "markdown",
   "metadata": {},
   "source": [
    "### Model Training"
   ]
  },
  {
   "cell_type": "code",
   "execution_count": null,
   "metadata": {},
   "outputs": [],
   "source": [
    "device = torch.device(\"cuda\" if torch.cuda.is_available() else \"cpu\")\n",
    "model = EEGNet().to(device)\n",
    "optimizer = torch.optim.Adam(model.parameters(), lr=0.001)\n",
    "criterion = nn.CrossEntropyLoss()\n",
    "\n",
    "num_epochs = 30\n",
    "for epoch in range(num_epochs):\n",
    "    total_loss = 0\n",
    "    for eeg, (movement, direction) in dataloader:\n",
    "        eeg, movement, direction = eeg.to(device), movement.to(device), direction.to(device)\n",
    "        optimizer.zero_grad()\n",
    "        movement_pred, direction_pred = model(eeg)\n",
    "        loss_movement = criterion(movement_pred, movement)\n",
    "        loss_direction = criterion(direction_pred, direction)\n",
    "        loss = loss_movement + loss_direction\n",
    "        loss.backward()\n",
    "        optimizer.step()\n",
    "        total_loss += loss.item()\n",
    "    print(f\"Epoch {epoch+1}/{num_epochs}, Loss: {total_loss:.4f}\")"
   ]
  },
  {
   "cell_type": "markdown",
   "metadata": {},
   "source": [
    "### Model Save"
   ]
  },
  {
   "cell_type": "code",
   "execution_count": null,
   "metadata": {},
   "outputs": [],
   "source": [
    "torch.save(model.state_dict(), \"eegnet_model.pth\")\n",
    "print(\"✅ Modèle Entraîné et Sauvegardé !\")"
   ]
  },
  {
   "cell_type": "markdown",
   "metadata": {},
   "source": [
    "### Test and analysis"
   ]
  },
  {
   "cell_type": "code",
   "execution_count": null,
   "metadata": {},
   "outputs": [],
   "source": [
    "def evaluate_model(model, dataloader):\n",
    "    model.eval()\n",
    "    all_movement_true, all_movement_pred = [], []\n",
    "    all_direction_true, all_direction_pred = [], []\n",
    "    \n",
    "    with torch.no_grad():\n",
    "        for eeg, (movement, direction) in dataloader:\n",
    "            eeg, movement, direction = eeg.to(device), movement.to(device), direction.to(device)\n",
    "            movement_pred, direction_pred = model(eeg)\n",
    "            movement_pred = movement_pred.argmax(dim=1)\n",
    "            direction_pred = direction_pred.argmax(dim=1)\n",
    "            \n",
    "            all_movement_true.extend(movement.cpu().numpy())\n",
    "            all_movement_pred.extend(movement_pred.cpu().numpy())\n",
    "            all_direction_true.extend(direction.cpu().numpy())\n",
    "            all_direction_pred.extend(direction_pred.cpu().numpy())\n",
    "    \n",
    "    return all_movement_true, all_movement_pred, all_direction_true, all_direction_pred\n",
    "\n",
    "def plot_confusion_matrix(true_labels, pred_labels, classes, title):\n",
    "    cm = confusion_matrix(true_labels, pred_labels)\n",
    "    sns.heatmap(cm, annot=True, fmt='d', cmap='Blues', xticklabels=classes, yticklabels=classes)\n",
    "    plt.title(f\"Matrice de Confusion - {title}\")\n",
    "    plt.show()\n",
    "\n",
    "def show_classification_report(true_labels, pred_labels, classes, title):\n",
    "    print(f\"\\n📊 Rapport de Classification - {title}\")\n",
    "    print(classification_report(true_labels, pred_labels, target_names=classes))\n",
    "\n",
    "def analyze_errors(true_labels, pred_labels, classes, title):\n",
    "    errors = [(t, p) for t, p in zip(true_labels, pred_labels) if t != p]\n",
    "    unique_errors, counts = np.unique(errors, axis=0, return_counts=True)\n",
    "    print(f\"\\n🔍 Pires Erreurs - {title}\")\n",
    "    for (true, pred), count in zip(unique_errors, counts):\n",
    "        print(f\"→ Vrai: {classes[true]} | Prédit: {classes[pred]} | Fois: {count}\")\n"
   ]
  },
  {
   "cell_type": "code",
   "execution_count": null,
   "metadata": {},
   "outputs": [],
   "source": [
    "movement_classes = [\"neutre\", \"avant\", \"arrière\"]\n",
    "direction_classes = [\"neutre\", \"gauche\", \"droite\"]\n",
    "\n",
    "all_movement_true, all_movement_pred, all_direction_true, all_direction_pred = evaluate_model(model, dataloader)\n",
    "plot_confusion_matrix(all_movement_true, all_movement_pred, movement_classes, \"movement\")\n",
    "plot_confusion_matrix(all_direction_true, all_direction_pred, direction_classes, \"Direction\")\n",
    "show_classification_report(all_movement_true, all_movement_pred, movement_classes, \"movement\")\n",
    "show_classification_report(all_direction_true, all_direction_pred, direction_classes, \"Direction\")\n",
    "analyze_errors(all_movement_true, all_movement_pred, movement_classes, \"movement\")\n",
    "analyze_errors(all_direction_true, all_direction_pred, direction_classes, \"Direction\")"
   ]
  }
 ],
 "metadata": {
  "kernelspec": {
   "display_name": "venv",
   "language": "python",
   "name": "python3"
  },
  "language_info": {
   "codemirror_mode": {
    "name": "ipython",
    "version": 3
   },
   "file_extension": ".py",
   "mimetype": "text/x-python",
   "name": "python",
   "nbconvert_exporter": "python",
   "pygments_lexer": "ipython3",
   "version": "3.12.8"
  }
 },
 "nbformat": 4,
 "nbformat_minor": 2
}
